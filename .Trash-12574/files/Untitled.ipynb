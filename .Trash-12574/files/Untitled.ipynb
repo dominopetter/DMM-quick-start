{
 "cells": [
  {
   "cell_type": "code",
   "execution_count": null,
   "id": "b80ab545-c60a-45de-bd75-1472c3f58f77",
   "metadata": {},
   "outputs": [],
   "source": [
    "from domino.data_sources import DataSourceClient\n",
    "\n",
    "# instantiate a client and fetch the datasource instance\n",
    "object_store = DataSourceClient().get_datasource(\"SE-Demo-Bucket\")\n",
    "\n",
    "# list objects available in the datasource\n",
    "objects = object_store.list_objects()\n",
    "\n",
    "## get content as binary\n",
    "# content = object_store.get(\"key\")\n",
    "\n",
    "## download content to file\n",
    "# object_store.download_file(\"key\", \"./path/to/local/file\")\n",
    "\n",
    "## Download content to file object\n",
    "# f = io.BytesIO()\n",
    "# object_store.download_fileobj(\"key\", f)"
   ]
  }
 ],
 "metadata": {
  "kernelspec": {
   "display_name": "Python 3 (ipykernel)",
   "language": "python",
   "name": "python3"
  },
  "language_info": {
   "codemirror_mode": {
    "name": "ipython",
    "version": 3
   },
   "file_extension": ".py",
   "mimetype": "text/x-python",
   "name": "python",
   "nbconvert_exporter": "python",
   "pygments_lexer": "ipython3",
   "version": "3.10.14"
  }
 },
 "nbformat": 4,
 "nbformat_minor": 5
}
