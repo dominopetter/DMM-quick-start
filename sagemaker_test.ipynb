{
 "cells": [
  {
   "cell_type": "code",
   "execution_count": 1,
   "id": "efea9e70-fdc5-4e51-aef5-9fde64949273",
   "metadata": {},
   "outputs": [
    {
     "name": "stdout",
     "output_type": "stream",
     "text": [
      "{\"predictions\": [265000.0]}\n"
     ]
    }
   ],
   "source": [
    "import boto3 #comment\n",
    "import os\n",
    "import requests\n",
    "import json\n",
    "\n",
    "# Replace request_body with the extracted feature values\n",
    "feature_values = [\n",
    "    1.417779575520277, 1.2235334622079015, 1376.2808414176138, -44282.09192720655,\n",
    "    1.0663144705090994, -0.016425213918793445, -0.12412711151320194, 3.010860708305122,\n",
    "    6.446308650295107, 1134.2601420161861, 83.01687506148825, 1950.9720074899026, 38.33997291730212,\n",
    "    98187.71575450613, 47.512356777412954, -122.29738607549102, 1162.588195657737, -15814.149590757263\n",
    "]\n",
    "\n",
    "# Constructing the JSON payload\n",
    "request_body = json.dumps({ \"instances\": [feature_values] })\n",
    "\n",
    "# For authentication options if running outside of domino, see\n",
    "# https://docs.dominodatalab.com/en/latest/user_guide/40b91f/domino-api-authentication/\n",
    "base_url = os.environ['DOMINO_API_PROXY']\n",
    "\n",
    "model_deployment_id='672dd5af36c5431d06b18538'\n",
    "endpoint_name='672dd5af36c5431d06b18538-endpoint'\n",
    "region = 'us-west-2'\n",
    "credentials_url = f\"{base_url}/api/modelServing/v1/modelDeployments/{model_deployment_id}/credentials/INVOKE_ENDPOINT\"\n",
    "\n",
    "credentials_response = requests.get(credentials_url).json()\n",
    "session = boto3.Session(aws_access_key_id=credentials_response['credentials']['AWS_ACCESS_KEY_ID'],\n",
    "                        aws_secret_access_key=credentials_response['credentials']['AWS_SECRET_ACCESS_KEY'],\n",
    "                        aws_session_token=credentials_response['credentials']['AWS_SESSION_TOKEN'])\n",
    "\n",
    "sagemaker_client = session.client(\"sagemaker-runtime\", region_name=region)\n",
    "\n",
    "try:\n",
    "    response = sagemaker_client.invoke_endpoint(\n",
    "        EndpointName=endpoint_name,\n",
    "        Body=request_body,\n",
    "        ContentType='application/json',\n",
    "        Accept='application/json',\n",
    "    )\n",
    "    print(response['Body'].read().decode('utf-8'))\n",
    "except sagemaker_client.exceptions.ModelError as e:\n",
    "    print(f\"error invoking endpoint: {e}\")\n"
   ]
  },
  {
   "cell_type": "code",
   "execution_count": null,
   "id": "c61f174b-5bd6-4979-82c5-5968bf06c1c0",
   "metadata": {},
   "outputs": [],
   "source": []
  }
 ],
 "metadata": {
  "kernelspec": {
   "display_name": "Python 3 (ipykernel)",
   "language": "python",
   "name": "python3"
  },
  "language_info": {
   "codemirror_mode": {
    "name": "ipython",
    "version": 3
   },
   "file_extension": ".py",
   "mimetype": "text/x-python",
   "name": "python",
   "nbconvert_exporter": "python",
   "pygments_lexer": "ipython3",
   "version": "3.10.14"
  }
 },
 "nbformat": 4,
 "nbformat_minor": 5
}
