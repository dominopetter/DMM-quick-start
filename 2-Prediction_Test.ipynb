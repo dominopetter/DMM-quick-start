{
 "cells": [
  {
   "cell_type": "code",
   "execution_count": 1,
   "id": "a6eb712d",
   "metadata": {},
   "outputs": [],
   "source": [
    "import pickle\n",
    "import uuid\n",
    "import datetime\n",
    "import json\n",
    "\n",
    "from sklearn.tree import DecisionTreeRegressor\n",
    "from domino_data_capture.data_capture_client import DataCaptureClient"
   ]
  },
  {
   "cell_type": "code",
   "execution_count": 2,
   "id": "349309b8",
   "metadata": {},
   "outputs": [],
   "source": [
    "#replicate model API function\n",
    "features = [\"bedrooms\", \"bathrooms\",\"sqft_living\",\"sqft_lot\",\"floors\",\"waterfront\",\"view\",\"condition\",\"grade\",\"sqft_above\",\"sqft_basement\",\"yr_built\",\"yr_renovated\",\"zipcode\",\"lat\",\"long\",\"sqft_living15\",\"sqft_lot15\"]\n",
    "target = [\"price\"]\n",
    "\n",
    "data_capture_client = DataCaptureClient(features, target)\n",
    "\n",
    "model_file_name = \"price_dt_py.sav\"\n",
    "model = pickle.load(open(model_file_name, 'rb'))\n",
    "\n",
    "\n",
    "def predict_price(bedrooms, bathrooms,sqft_living,sqft_lot,floors,waterfront,view,condition,grade,sqft_above,sqft_basement,yr_built,yr_renovated,zipcode,lat,long,sqft_living15,sqft_lot15):\n",
    "    feature_values = [bedrooms, bathrooms,sqft_living,sqft_lot,floors,waterfront,view,condition,grade,sqft_above,sqft_basement,yr_built,yr_renovated,zipcode,lat,long,sqft_living15,sqft_lot15]\n",
    "    price_prediction = model.predict([feature_values])\n",
    "\n",
    "    # Record eventID and current time\n",
    "    event_id = uuid.uuid4()\n",
    "    event_time = datetime.datetime.now(datetime.timezone.utc).isoformat()\n",
    "    \n",
    "    data_capture_client.capturePrediction(feature_values, price_prediction, event_id=event_id, timestamp=event_time)"
   ]
  },
  {
   "cell_type": "code",
   "execution_count": 3,
   "id": "e6da53d9",
   "metadata": {
    "scrolled": true
   },
   "outputs": [
    {
     "name": "stderr",
     "output_type": "stream",
     "text": [
      "/opt/conda/lib/python3.10/site-packages/sklearn/base.py:450: UserWarning: X does not have valid feature names, but DecisionTreeRegressor was fitted with feature names\n",
      "  warnings.warn(\n",
      "The information shown below represents the structure and format of the prediction data recorded by Domino when this model is deployed as a Domino Model API\n",
      "\n",
      "{\"predictions\": {\"price\": 265000.0}, \"features\": {\"bedrooms\": 1.417779575520277, \"bathrooms\": 1.2235334622079015, \"sqft_living\": 1376.2808414176138, \"sqft_lot\": -44282.09192720655, \"floors\": 1.0663144705090994, \"waterfront\": -0.016425213918793445, \"view\": -0.12412711151320194, \"condition\": 3.010860708305122, \"grade\": 6.446308650295107, \"sqft_above\": 1134.2601420161861, \"sqft_basement\": 83.01687506148825, \"yr_built\": 1950.9720074899026, \"yr_renovated\": 38.33997291730212, \"zipcode\": 98187.71575450613, \"lat\": 47.512356777412954, \"long\": -122.29738607549102, \"sqft_living15\": 1162.588195657737, \"sqft_lot15\": -15814.149590757263}, \"metadata\": null, \"timestamp\": \"2024-10-15T10:01:40.322820+00:00\", \"__domino_timestamp\": \"2024-10-15T10:01:40.322834+00:00\", \"event_id\": \"c7bc7e47-dbbc-4699-92e1-a591d832fe3a\", \"prediction_probability\": null, \"sample_weight\": null, \"instance_id\": null}\n"
     ]
    }
   ],
   "source": [
    "predict_price(1.417779575520277,1.2235334622079015,1376.2808414176138,-44282.09192720655,\n",
    "1.0663144705090994,-0.016425213918793445,-0.12412711151320194,3.010860708305122,\n",
    "6.446308650295107,1134.2601420161861,83.01687506148825,1950.9720074899026,38.33997291730212,\n",
    "98187.71575450613,47.512356777412954,-122.29738607549102,1162.588195657737,-15814.149590757263)"
   ]
  },
  {
   "cell_type": "code",
   "execution_count": null,
   "id": "c3695547-bfb6-4362-9cef-063b3fdf5420",
   "metadata": {},
   "outputs": [],
   "source": []
  }
 ],
 "metadata": {
  "kernelspec": {
   "display_name": "Python 3 (ipykernel)",
   "language": "python",
   "name": "python3"
  },
  "language_info": {
   "codemirror_mode": {
    "name": "ipython",
    "version": 3
   },
   "file_extension": ".py",
   "mimetype": "text/x-python",
   "name": "python",
   "nbconvert_exporter": "python",
   "pygments_lexer": "ipython3",
   "version": "3.10.14"
  }
 },
 "nbformat": 4,
 "nbformat_minor": 5
}
